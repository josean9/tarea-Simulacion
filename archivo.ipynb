{
 "cells": [
  {
   "cell_type": "markdown",
   "id": "27755769",
   "metadata": {},
   "source": [
    "![Texto alternativo](../tarea-Simulacion/imagen1.png)\n"
   ]
  },
  {
   "cell_type": "markdown",
   "id": "cb8835c2",
   "metadata": {
    "vscode": {
     "languageId": "plaintext"
    }
   },
   "source": [
    "# Paso 1, Importamos Librerias"
   ]
  },
  {
   "cell_type": "code",
   "execution_count": 1,
   "id": "8a39ec32",
   "metadata": {},
   "outputs": [],
   "source": [
    "import numpy as np\n",
    "from scipy.sparse import diags, kron, identity\n",
    "from scipy.sparse.linalg import spsolve\n",
    "import matplotlib.pyplot as plt\n"
   ]
  },
  {
   "cell_type": "markdown",
   "id": "5f5d52bf",
   "metadata": {},
   "source": [
    "# Paso 2, Ponemos los parametros"
   ]
  },
  {
   "cell_type": "code",
   "execution_count": null,
   "id": "f55c96ea",
   "metadata": {},
   "outputs": [
    {
     "name": "stdout",
     "output_type": "stream",
     "text": [
      "t= [[0. 0. 0.]\n",
      " [0. 0. 0.]\n",
      " [0. 0. 0.]]\n"
     ]
    }
   ],
   "source": [
    "import numpy as np\n",
    "import matplotlib.pyplot as plt\n",
    "\n",
    "# Parámetros\n",
    "Lx = 1  # Longitud en x\n",
    "Ly = 1  # Longitud en y\n",
    "Tmin = 0  # Tiempo mínimo\n",
    "Tmax = 10  # Tiempo máximo\n",
    "\n",
    "Nx = 3  # Número de puntos en x\n",
    "Ny = 3  # Número de puntos en y\n",
    "Nt = 11  # Número de pasos de tiempo\n",
    "\n",
    "dx = Lx / (Nx - 1)  # Paso en x\n",
    "dy = Ly / (Ny - 1)  # Paso en y\n",
    "dt = (Tmax-Tmin) / (Nt - 1)  # Paso de tiempo\n",
    "\n",
    "alpha = 0.01  # Coeficiente de difusión térmica\n",
    "\n",
    "# Crear la malla 2D\n",
    "x = np.linspace(0, Lx, Nx) # Crea un vector [0, 0.5, 1]\n",
    "y = np.linspace(0, Ly, Ny)\n",
    "t = np.linspace(0, Tmax, Nt)\n",
    "\n",
    "# en lugar de T = np.zeros((Nx, Ny))\n",
    "T = np.zeros((Nx, Ny, Nt))   # T[i,j,n]\n",
    "\n",
    "# la condición inicial pasa a T[:,:,0]\n",
    "for i in range(1, Nx-1):\n",
    "    for j in range(0, Ny):\n",
    "        T[i, j, 0] = 100*np.sin(np.pi*x[i])*np.sin(np.pi*y[j])\n",
    "\n",
    "\n"
   ]
  },
  {
   "cell_type": "markdown",
   "id": "a4cb4201",
   "metadata": {},
   "source": [
    "![Texto alternativo](../tarea-Simulacion/imagen2.png)\n"
   ]
  },
  {
   "cell_type": "code",
   "execution_count": null,
   "id": "7fb33dff",
   "metadata": {},
   "outputs": [],
   "source": [
    "\n",
    "# Matrices de coeficientes para el sistema implícito en cada dirección\n",
    "Ax = np.zeros((Nx-2, Nx-2))  # Matriz para la dirección x\n",
    "Ay = np.zeros((Ny-2, Ny-2))  # Matriz para la dirección y\n",
    "\n",
    "# Construcción de la matriz Ax para la dirección x\n",
    "for i in range(Nx-2):  # Ajuste en el rango\n",
    "    if i > 0:\n",
    "        Ax[i, i-1] = -rx\n",
    "    Ax[i, i] = 1 + 2*rx\n",
    "    if i < Nx-3:  # Ajuste en el rango\n",
    "        Ax[i, i+1] = -rx\n",
    "\n",
    "# Condiciones en los bordes de la matriz Ax\n",
    "Ax[0, 0] = 1\n",
    "Ax[Nx-3, Nx-3] = 1\n",
    "\n",
    "# Construcción de la matriz Ay para la dirección y\n",
    "for j in range(Ny-2):  # Ajuste en el rango\n",
    "    if j > 0:\n",
    "        Ay[j, j-1] = -ry\n",
    "    Ay[j, j] = 1 + 2*ry\n",
    "    if j < Ny-3:  # Ajuste en el rango\n",
    "        Ay[j, j+1] = -ry\n",
    "\n",
    "# Condiciones en los bordes de la matriz Ay\n",
    "Ay[0, 0] = 1\n",
    "Ay[Ny-3, Ny-3] = 1\n",
    "\n",
    "# Condiciones de frontera (Neumann en los bordes)\n",
    "# En x=0, x=Lx (Neumann)\n",
    "T[0, :, :] = T[1, :, :]\n",
    "T[Nx-1, :, :] = T[Nx-2, :, :]\n",
    "\n",
    "# En y=0, y=Ly (Neumann)\n",
    "T[:, 0, :] = T[:, 1, :]\n",
    "T[:, Ny-1, :] = T[:, Ny-2, :]\n",
    "\n",
    "# Resolución implícita en cada paso de tiempo\n",
    "for n in range(0, Nt-1):\n",
    "    # Resolver en cada fila (dirección x)\n",
    "    for j in range(Ny):\n",
    "        T[1:Nx-1, j, n+1] = np.linalg.solve(Ax, T[1:Nx-1, j, n])\n",
    "\n",
    "    # Resolver en cada columna (dirección y)\n",
    "    for i in range(Nx):\n",
    "        T[i, 1:Ny-1, n+1] = np.linalg.solve(Ay, T[i, 1:Ny-1, n])\n",
    "\n",
    "# Graficar los resultados\n",
    "X, Y = np.meshgrid(x, y)\n",
    "plt.figure(figsize=(8,6))\n",
    "plt.contourf(X, Y, T[:,:,Nt-1], 20, cmap='inferno')\n",
    "plt.colorbar()\n",
    "plt.title(f'Temperatura en t={Tmax} s')\n",
    "plt.xlabel('x')\n",
    "plt.ylabel('y')\n",
    "plt.show()\n"
   ]
  }
 ],
 "metadata": {
  "kernelspec": {
   "display_name": "env1",
   "language": "python",
   "name": "python3"
  },
  "language_info": {
   "codemirror_mode": {
    "name": "ipython",
    "version": 3
   },
   "file_extension": ".py",
   "mimetype": "text/x-python",
   "name": "python",
   "nbconvert_exporter": "python",
   "pygments_lexer": "ipython3",
   "version": "3.11.9"
  }
 },
 "nbformat": 4,
 "nbformat_minor": 5
}
